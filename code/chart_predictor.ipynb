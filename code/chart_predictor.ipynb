{
 "cells": [
  {
   "cell_type": "code",
   "execution_count": null,
   "metadata": {},
   "outputs": [],
   "source": [
    "import pandas as pd\n",
    "import numpy as np\n",
    "import matplotlib.pyplot as plt\n",
    "from sklearn.preprocessing import PolynomialFeatures\n",
    "from sklearn.model_selection import train_test_split\n",
    "from sklearn.model_selection import KFold\n",
    "from sklearn.model_selection import cross_val_score\n",
    "from sklearn.dummy import DummyClassifier\n",
    "from sklearn.linear_model import LogisticRegression\n",
    "from sklearn.neighbors import KNeighborsClassifier\n",
    "from sklearn.metrics import confusion_matrix\n",
    "from sklearn.metrics import classification_report\n",
    "from sklearn.metrics import roc_curve"
   ]
  },
  {
   "cell_type": "code",
   "execution_count": null,
   "metadata": {},
   "outputs": [],
   "source": [
    "# Import the data.\n",
    "charted = pd.read_csv(\"../data/charted_songs.csv\")\n",
    "uncharted = pd.read_csv(\"../data/uncharted_songs.csv\")\n",
    "songs = pd.concat([charted.iloc[:100], uncharted.iloc[:100]])\n",
    "X = songs.iloc[:, 3:]\n",
    "y = songs.iloc[:, 2]\n",
    "\n",
    "# Split data into training and validation data.\n",
    "X_train, X_validate, y_train, y_validate = train_test_split(X, y, test_size=0.2, random_state=9801)"
   ]
  },
  {
   "cell_type": "code",
   "execution_count": null,
   "metadata": {},
   "outputs": [],
   "source": [
    "# Establish baseline model.\n",
    "baseline_model = DummyClassifier(strategy=\"most_frequent\")\n",
    "baseline_model.fit(X_train, y_train)\n",
    "baseline_preds = baseline_model.predict(X_validate)\n",
    "print(confusion_matrix(y_validate, baseline_preds))\n",
    "print(classification_report(y_validate, baseline_preds))"
   ]
  },
  {
   "cell_type": "code",
   "execution_count": null,
   "metadata": {},
   "outputs": [],
   "source": [
    "# Perform cross validation to select q.\n",
    "mean_error = []\n",
    "std_error = []\n",
    "q_range = [1, 2, 3, 4, 5, 6, 10]\n",
    "kf = KFold(n_splits=5)\n",
    "for q in q_range:\n",
    "  X_poly = PolynomialFeatures(q).fit_transform(X_train)\n",
    "  model = LogisticRegression(penalty=\"l2\", C=1)\n",
    "  scores = cross_val_score(model, X_poly, y_train, cv=kf, scoring=\"f1\")\n",
    "  mean_error.append(np.array(scores).mean())\n",
    "  std_error.append(np.array(scores).std())\n",
    "plt.rc(\"font\", size=18)\n",
    "plt.errorbar(q_range, mean_error, yerr=std_error, linewidth=3)\n",
    "plt.xlabel(\"q\")\n",
    "plt.ylabel(\"F1 Score\")\n",
    "plt.title(\"q Cross Validation for Logistic Regression Model\")\n",
    "plt.show()"
   ]
  },
  {
   "cell_type": "code",
   "execution_count": null,
   "metadata": {},
   "outputs": [],
   "source": [
    "# Perform cross validation to select C.\n",
    "mean_error = []\n",
    "std_error = []\n",
    "c_range = [0.01, 0.1, 0.9, 1]\n",
    "kf = KFold(n_splits=5)\n",
    "for c in c_range:\n",
    "  model = LogisticRegression(penalty=\"l2\", C=c)\n",
    "  scores = cross_val_score(model, X_train, y_train, cv=kf, scoring=\"f1\")\n",
    "  mean_error.append(np.array(scores).mean())\n",
    "  std_error.append(np.array(scores).std())\n",
    "plt.rc(\"font\", size=18)\n",
    "plt.rcParams[\"figure.constrained_layout.use\"] = True\n",
    "plt.errorbar(c_range, mean_error, yerr=std_error, linewidth=3)\n",
    "plt.xlabel(\"C\")\n",
    "plt.ylabel(\"F1 Score\")\n",
    "plt.title(\"C Cross Validation for Logistic Regression Model\")\n",
    "plt.show()"
   ]
  },
  {
   "cell_type": "code",
   "execution_count": null,
   "metadata": {},
   "outputs": [],
   "source": [
    "# Train logistic regression classifier (with L2 penalty) with hyperparameters from cross-validation.\n",
    "lrl2_model = LogisticRegression(penalty=\"l2\", C=1)\n",
    "lrl2_model.fit(X_train, y_train)\n",
    "lrl2_preds = lrl2_model.predict(X_validate)\n",
    "print(confusion_matrix(y_validate, lrl2_preds))\n",
    "print(classification_report(y_validate, lrl2_preds))"
   ]
  },
  {
   "cell_type": "code",
   "execution_count": null,
   "metadata": {},
   "outputs": [],
   "source": [
    "# Perform cross validation to select k.\n",
    "mean_error = []\n",
    "std_error = []\n",
    "k_range = [1, 5, 10, 20, 50, 100]\n",
    "kf = KFold(n_splits=5)\n",
    "for k in k_range:\n",
    "  from sklearn.neighbors import KNeighborsClassifier\n",
    "  model = KNeighborsClassifier(n_neighbors=k)\n",
    "  scores = cross_val_score(model, X_train, y_train, cv=kf, scoring=\"f1\")\n",
    "  mean_error.append(np.array(scores).mean())\n",
    "  std_error.append(np.array(scores).std())\n",
    "plt.rc(\"font\", size=18)\n",
    "plt.rcParams[\"figure.constrained_layout.use\"] = True\n",
    "plt.errorbar(k_range, mean_error, yerr=std_error, linewidth=3)\n",
    "plt.xlabel(\"k\")\n",
    "plt.ylabel(\"F1 Score\")\n",
    "plt.title(\"k Cross Validation for kNN Model\")\n",
    "plt.show()"
   ]
  },
  {
   "cell_type": "code",
   "execution_count": null,
   "metadata": {},
   "outputs": [],
   "source": [
    "# Train kNN classifier with k selected from cross-validation.\n",
    "kNN_model = KNeighborsClassifier(n_neighbors=7)\n",
    "kNN_model.fit(X_train, y_train)\n",
    "kNN_preds = kNN_model.predict(X_validate)\n",
    "print(confusion_matrix(y_validate, kNN_preds))\n",
    "print(classification_report(y_validate, kNN_preds))"
   ]
  },
  {
   "cell_type": "code",
   "execution_count": null,
   "metadata": {},
   "outputs": [],
   "source": [
    "# Plot ROC curves for baseline, logistic regression classifier, kNN classifier.\n",
    "fig = plt.figure()\n",
    "plt.rc(\"font\", size=10)\n",
    "plt.rcParams[\"figure.constrained_layout.use\"] = True\n",
    "\n",
    "probs = lrl2_model.predict_proba(X_validate)\n",
    "fpr, tpr, _ = roc_curve(y_validate, probs[:, 1])\n",
    "plt.plot(fpr, tpr, color=\"blue\", label=\"Logistic Regression Classifier\")\n",
    "\n",
    "probs = kNN_model.predict_proba(X_validate)  \n",
    "fpr, tpr, _ = roc_curve(y_validate, probs[:, 1])\n",
    "plt.plot(fpr, tpr, color=\"orange\", label=\"kNN Classifier\")\n",
    "\n",
    "probs = baseline_model.predict_proba(X_validate)  \n",
    "fpr, tpr, _ = roc_curve(y_validate, probs[:, 1])\n",
    "plt.plot(fpr, tpr, color=\"red\", label=\"Baseline Classifier\")\n",
    "\n",
    "plt.plot([0,1], [0,1], color=\"green\", linestyle=\"--\", label=\"Random Classifier\")\n",
    "\n",
    "plt.xlabel(\"False Positive Rate\")\n",
    "plt.ylabel(\"True Positive Rate\")\n",
    "plt.title(\"ROC Curves\")\n",
    "plt.legend()\n",
    "plt.show()"
   ]
  }
 ],
 "metadata": {
  "kernelspec": {
   "display_name": "Python 3.10.7 64-bit",
   "language": "python",
   "name": "python3"
  },
  "language_info": {
   "codemirror_mode": {
    "name": "ipython",
    "version": 3
   },
   "file_extension": ".py",
   "mimetype": "text/x-python",
   "name": "python",
   "nbconvert_exporter": "python",
   "pygments_lexer": "ipython3",
   "version": "3.10.7"
  },
  "orig_nbformat": 4,
  "vscode": {
   "interpreter": {
    "hash": "51923b56f38a5b3424ee861e1200c08869906ff2215aafed0340f54392de6f99"
   }
  }
 },
 "nbformat": 4,
 "nbformat_minor": 2
}
